{
 "cells": [
  {
   "cell_type": "markdown",
   "metadata": {},
   "source": [
    "## Linear models\n",
    "\n",
    "Let's practice some of the key steps of a linear model fitting analysis using dataset 2. This includes:\n",
    "- loading the data\n",
    "- inspecting it with a scatter plot\n",
    "- cleaning it\n",
    "- testing for correlation\n",
    "- fitting the model"
   ]
  },
  {
   "cell_type": "code",
   "execution_count": 9,
   "metadata": {
    "deletable": false,
    "editable": false,
    "nbgrader": {
     "cell_type": "code",
     "checksum": "c3c2ae06e8b39207d533e8c2e947d667",
     "grade": false,
     "grade_id": "cell-setup",
     "locked": true,
     "schema_version": 3,
     "solution": false,
     "task": false
    }
   },
   "outputs": [],
   "source": [
    "library(tidyverse, quietly = TRUE)\n",
    "library(testthat, quietly = TRUE)"
   ]
  },
  {
   "cell_type": "markdown",
   "metadata": {},
   "source": [
    "Firstly, we will load our trusty dataset 2 and remove missing values."
   ]
  },
  {
   "cell_type": "code",
   "execution_count": 11,
   "metadata": {
    "deletable": false,
    "editable": false,
    "nbgrader": {
     "cell_type": "code",
     "checksum": "abfd88f079d3856fd1bb05cdb64a2adc",
     "grade": false,
     "grade_id": "cell-loadData",
     "locked": true,
     "schema_version": 3,
     "solution": false,
     "task": false
    }
   },
   "outputs": [],
   "source": [
    "ds2 <- read.csv(\"./data/DATA_SET_REFERENCE_2.csv\", row.names = 1)\n",
    "ds2 <- ds2[complete.cases(ds2),]"
   ]
  },
  {
   "cell_type": "markdown",
   "metadata": {},
   "source": [
    "Now we can make a scatter plot of the variable `LDL` against `Hours_sun` to get a visual impression of dependency. Are there evidence of outliers?"
   ]
  },
  {
   "cell_type": "code",
   "execution_count": 12,
   "metadata": {},
   "outputs": [
    {
     "data": {
      "image/png": "[encoded data removed]",
      "text/plain": [
       "plot without title"
      ]
     },
     "metadata": {
      "image/png": {
       "height": 420,
       "width": 420
      },
      "text/plain": {
       "height": 420,
       "width": 420
      }
     },
     "output_type": "display_data"
    }
   ],
   "source": [
    "ggplot(ds2, aes(x = LDL, y = Hours_sun)) + \n",
    "    geom_point() +\n",
    "    xlab(\"LDL [mg/dL]\") +\n",
    "    ylab(\"Sun [h]\")"
   ]
  },
  {
   "cell_type": "markdown",
   "metadata": {},
   "source": [
    "It looks like there are some outliers in our dataset! We need to create an index for outliers in `LDL` as well as `Hours_sun`."
   ]
  },
  {
   "cell_type": "code",
   "execution_count": 13,
   "metadata": {
    "deletable": false,
    "nbgrader": {
     "cell_type": "code",
     "checksum": "83dcf2247295ccf2ebffaae5e19bebe0",
     "grade": false,
     "grade_id": "cell-findOutliersQuestion",
     "locked": false,
     "schema_version": 3,
     "solution": true,
     "task": false
    }
   },
   "outputs": [
    {
     "data": {
      "text/plain": [
       "idx\n",
       "FALSE  TRUE \n",
       " 1253     4 "
      ]
     },
     "metadata": {},
     "output_type": "display_data"
    }
   ],
   "source": [
    "# Create a logical index selecting only rows where the value of LDL or Hours_sun \n",
    "# is further than 3 standard deviations away from respective mean.\n",
    "\n",
    "# idx <- \n",
    "\n",
    "# your code here\n",
    "idx <- (abs(ds2$LDL - mean(ds2$LDL)) > 3 * sd(ds2$LDL)) |\n",
    "       (abs(ds2$Hours_sun - mean(ds2$Hours_sun)) > 3 * sd(ds2$Hours_sun))\n",
    "\n",
    "\n",
    "table(idx)"
   ]
  },
  {
   "cell_type": "code",
   "execution_count": 14,
   "metadata": {
    "deletable": false,
    "editable": false,
    "nbgrader": {
     "cell_type": "code",
     "checksum": "6e190cd6a35ba9b9fd11a687291d7979",
     "grade": true,
     "grade_id": "cell-findOutliersTest",
     "locked": true,
     "points": 1,
     "schema_version": 3,
     "solution": false,
     "task": false
    }
   },
   "outputs": [
    {
     "name": "stdout",
     "output_type": "stream",
     "text": [
      "\u001b[32mTest passed\u001b[39m 🥳\n",
      "\u001b[32mTest passed\u001b[39m 🥇\n",
      "\u001b[32mTest passed\u001b[39m 😸\n"
     ]
    }
   ],
   "source": [
    "test_that(\"Are you sure your index is set to 'TRUE' for every outlier in LDL?\", {\n",
    "    expect_false(any(abs(ds2$LDL[!idx] - mean(ds2$LDL)) > 3*sd(ds2$LDL)) )\n",
    "})\n",
    "\n",
    "test_that(\"Are you sure your index  is set to 'TRUE' for every outlier in Hours_sun?\", {\n",
    "    expect_false(any(abs(ds2$Hours_sun[!idx] - mean(ds2$Hours_sun)) > 3*sd(ds2$Hours_sun)) )\n",
    "})\n",
    "\n",
    "test_that(\"Are you sure your index is set to 'TRUE' for every outlier in Hours_sun or LDL?\", {\n",
    "    expect_true(table(idx)['TRUE'] == 4)\n",
    "})\n",
    "\n"
   ]
  },
  {
   "cell_type": "markdown",
   "metadata": {},
   "source": [
    "Now we can test for linear correlation between our two variables, excluding the outliers."
   ]
  },
  {
   "cell_type": "code",
   "execution_count": 15,
   "metadata": {
    "deletable": false,
    "nbgrader": {
     "cell_type": "code",
     "checksum": "fcbc9865b9fc10a84c35be1b08475595",
     "grade": false,
     "grade_id": "cell-corQuestion",
     "locked": false,
     "schema_version": 3,
     "solution": true,
     "task": false
    }
   },
   "outputs": [
    {
     "name": "stdout",
     "output_type": "stream",
     "text": [
      "[1] \"numeric\"\n",
      "[1] 3.401166e-74\n"
     ]
    }
   ],
   "source": [
    "# Now calculate linear correlation in a two-sided test, excluding the outliers we have just \n",
    "# selected with our index, and store the p-value in the variable.\n",
    "\n",
    "# Hours_sun.LDL.cor.pval <- \n",
    "\n",
    "# your code here\n",
    "ds2_filtered <- ds2[!idx, ]\n",
    "Hours_sun.LDL.cor.test <- cor.test(ds2_filtered$Hours_sun, ds2_filtered$LDL, alternative = \"two.sided\")\n",
    "Hours_sun.LDL.cor.pval <- Hours_sun.LDL.cor.test$p.value\n",
    "\n",
    "\n",
    "print(class(Hours_sun.LDL.cor.pval))\n",
    "print(Hours_sun.LDL.cor.pval)"
   ]
  },
  {
   "cell_type": "code",
   "execution_count": 16,
   "metadata": {
    "deletable": false,
    "editable": false,
    "nbgrader": {
     "cell_type": "code",
     "checksum": "3dd973430d1909e123f2608469c75500",
     "grade": true,
     "grade_id": "cell-corTest",
     "locked": true,
     "points": 1,
     "schema_version": 3,
     "solution": false,
     "task": false
    }
   },
   "outputs": [
    {
     "name": "stdout",
     "output_type": "stream",
     "text": [
      "\u001b[32mTest passed\u001b[39m 😀\n"
     ]
    }
   ],
   "source": [
    "test_that(\"Make sure to store the p-value in variable Hours_sun.LDL.cor.pval!\", {\n",
    "    expect_equal(class(Hours_sun.LDL.cor.pval), 'numeric')\n",
    "})\n"
   ]
  },
  {
   "cell_type": "markdown",
   "metadata": {},
   "source": [
    "Good news, we have reached the point where we can fit the linear model to the data!"
   ]
  },
  {
   "cell_type": "code",
   "execution_count": 17,
   "metadata": {
    "deletable": false,
    "nbgrader": {
     "cell_type": "code",
     "checksum": "314d0de3bb694486333b6c2d83fcebee",
     "grade": false,
     "grade_id": "cell-linModQuestion",
     "locked": false,
     "schema_version": 3,
     "solution": true,
     "task": false
    }
   },
   "outputs": [
    {
     "name": "stdout",
     "output_type": "stream",
     "text": [
      "[1] 0.2332148\n"
     ]
    }
   ],
   "source": [
    "# Fit a linear model to the filtered columns LDL and Hours_sun, again excluding the defined outliers \n",
    "# using the index we have just created. Specify Hours_sun as the response variable and LDL as the predictor\n",
    "# in the model formula.\n",
    "\n",
    "# hs.vs.ldl.lm <- \n",
    "\n",
    "# your code here\n",
    "ds2_filtered <- ds2[!idx, ]\n",
    "hs.vs.ldl.lm <- lm(Hours_sun ~ LDL, data = ds2_filtered)\n",
    "\n",
    "\n",
    "# print the R-square value\n",
    "print(summary(hs.vs.ldl.lm)$r.squared)"
   ]
  },
  {
   "cell_type": "code",
   "execution_count": 18,
   "metadata": {
    "deletable": false,
    "editable": false,
    "nbgrader": {
     "cell_type": "code",
     "checksum": "4b33382e336e66b5b66564037aef2030",
     "grade": true,
     "grade_id": "cell-linModTest",
     "locked": true,
     "points": 1,
     "schema_version": 3,
     "solution": false,
     "task": false
    }
   },
   "outputs": [
    {
     "name": "stdout",
     "output_type": "stream",
     "text": [
      "\u001b[32mTest passed\u001b[39m 😀\n"
     ]
    }
   ],
   "source": [
    "test_that(\"Are you sure you have used the index to exclude the outliers from the dataset?\", {\n",
    "    expect_equal(length(hs.vs.ldl.lm$effects), 1253)\n",
    "})\n"
   ]
  },
  {
   "cell_type": "markdown",
   "metadata": {},
   "source": [
    "We can visualize the fit by adding the line to the scatter plot from above."
   ]
  },
  {
   "cell_type": "code",
   "execution_count": 19,
   "metadata": {},
   "outputs": [
    {
     "data": {
      "image/png": "[encoded data removed]",
      "text/plain": [
       "plot without title"
      ]
     },
     "metadata": {
      "image/png": {
       "height": 420,
       "width": 420
      },
      "text/plain": {
       "height": 420,
       "width": 420
      }
     },
     "output_type": "display_data"
    }
   ],
   "source": [
    "coeff = coefficients(hs.vs.ldl.lm)\n",
    "\n",
    "ggplot(ds2, aes(x = LDL, y = Hours_sun)) + \n",
    "    geom_point() +\n",
    "    ylab(\"LDL [mg/dL]\") +\n",
    "    xlab(\"Sun [h]\") +\n",
    "    geom_abline(intercept = coeff[1], \n",
    "                slope = coeff[2], \n",
    "                color = 'gray', \n",
    "               size = .8,\n",
    "               linetype = \"dashed\")"
   ]
  },
  {
   "cell_type": "markdown",
   "metadata": {},
   "source": [
    "Now we can check how well the model fits by looking at the mean residuals."
   ]
  },
  {
   "cell_type": "code",
   "execution_count": 20,
   "metadata": {
    "deletable": false,
    "nbgrader": {
     "cell_type": "code",
     "checksum": "cf14c542db20fbbe13d8dd8beeec9154",
     "grade": false,
     "grade_id": "cell-residualsQuestion",
     "locked": false,
     "schema_version": 3,
     "solution": true,
     "task": false
    }
   },
   "outputs": [
    {
     "name": "stdout",
     "output_type": "stream",
     "text": [
      "[1] -8.323904e-17\n"
     ]
    }
   ],
   "source": [
    "# Calulate the mean of the residuals stored in the linear model object hs.vs.ldl.lm\n",
    "\n",
    "# mu.residuals <- \n",
    "\n",
    "# your code here\n",
    "mu.residuals <- mean(residuals(hs.vs.ldl.lm))\n",
    "\n",
    "\n",
    "print(mu.residuals)"
   ]
  },
  {
   "cell_type": "code",
   "execution_count": 21,
   "metadata": {
    "deletable": false,
    "editable": false,
    "nbgrader": {
     "cell_type": "code",
     "checksum": "75e91772e0f838c1e4ec0d11d25e34d6",
     "grade": true,
     "grade_id": "cell-residualsTest",
     "locked": true,
     "points": 1,
     "schema_version": 3,
     "solution": false,
     "task": false
    }
   },
   "outputs": [
    {
     "name": "stdout",
     "output_type": "stream",
     "text": [
      "\u001b[32mTest passed\u001b[39m 😸\n"
     ]
    }
   ],
   "source": [
    "test_that(\"Are you sure you have used the index to exclude the outliers from the dataset?\", {\n",
    "    expect_equal(length(hs.vs.ldl.lm$effects), 1253)\n",
    "})\n"
   ]
  },
  {
   "cell_type": "code",
   "execution_count": null,
   "metadata": {},
   "outputs": [],
   "source": []
  }
 ],
 "metadata": {
  "kernelspec": {
   "display_name": "R",
   "language": "R",
   "name": "ir"
  },
  "language_info": {
   "codemirror_mode": "r",
   "file_extension": ".r",
   "mimetype": "text/x-r-source",
   "name": "R",
   "pygments_lexer": "r",
   "version": "3.6.3"
  }
 },
 "nbformat": 4,
 "nbformat_minor": 5
}
