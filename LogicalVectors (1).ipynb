{
 "cells": [
  {
   "cell_type": "markdown",
   "metadata": {},
   "source": [
    "## Operations with logical vectors \n",
    "\n",
    "\n",
    "The goal of this exercise is to learn handling logical vectors. We will use dataset 1.\n"
   ]
  },
  {
   "cell_type": "code",
   "execution_count": 1,
   "metadata": {
    "deletable": false,
    "editable": false,
    "nbgrader": {
     "cell_type": "code",
     "checksum": "e9398e5389981249f87785171f620b5a",
     "grade": false,
     "grade_id": "cell-9b1b5b6d21aac0bb",
     "locked": true,
     "schema_version": 3,
     "solution": false,
     "task": false
    }
   },
   "outputs": [],
   "source": [
    "require(testthat, quietly = TRUE)"
   ]
  },
  {
   "cell_type": "code",
   "execution_count": 4,
   "metadata": {
    "deletable": false,
    "nbgrader": {
     "cell_type": "code",
     "checksum": "9e60c4fd20a2ea10a9bf46b8a77531ec",
     "grade": false,
     "grade_id": "cell-readDataAnswer",
     "locked": false,
     "schema_version": 3,
     "solution": true,
     "task": false
    }
   },
   "outputs": [
    {
     "data": {
      "text/html": [
       "<table>\n",
       "<caption>A data.frame: 6 × 8</caption>\n",
       "<thead>\n",
       "\t<tr><th></th><th scope=col>Hours_sun</th><th scope=col>Age</th><th scope=col>Weigth</th><th scope=col>Sugar_blood</th><th scope=col>LDL</th><th scope=col>Color_house</th><th scope=col>Sleep_hours</th><th scope=col>Hospital_times</th></tr>\n",
       "\t<tr><th></th><th scope=col>&lt;int&gt;</th><th scope=col>&lt;int&gt;</th><th scope=col>&lt;int&gt;</th><th scope=col>&lt;dbl&gt;</th><th scope=col>&lt;dbl&gt;</th><th scope=col>&lt;fct&gt;</th><th scope=col>&lt;dbl&gt;</th><th scope=col>&lt;int&gt;</th></tr>\n",
       "</thead>\n",
       "<tbody>\n",
       "\t<tr><th scope=row>Patient_1</th><td>11</td><td>65</td><td>106</td><td>121.4</td><td>138.01</td><td>Red  </td><td>7.6</td><td>4</td></tr>\n",
       "\t<tr><th scope=row>Patient_2</th><td> 1</td><td>78</td><td> 60</td><td>103.9</td><td>114.02</td><td>Brown</td><td>9.0</td><td>2</td></tr>\n",
       "\t<tr><th scope=row>Patient_3</th><td>11</td><td>19</td><td> 92</td><td> 74.4</td><td>130.98</td><td>Red  </td><td>6.6</td><td>0</td></tr>\n",
       "\t<tr><th scope=row>Patient_4</th><td> 6</td><td>61</td><td> 97</td><td>111.2</td><td>133.50</td><td>Red  </td><td>8.3</td><td>4</td></tr>\n",
       "\t<tr><th scope=row>Patient_5</th><td>10</td><td>54</td><td> 74</td><td> 68.9</td><td>121.73</td><td>Red  </td><td>7.6</td><td>0</td></tr>\n",
       "\t<tr><th scope=row>Patient_6</th><td> 6</td><td>26</td><td>110</td><td>126.8</td><td>140.03</td><td>Blue </td><td>7.4</td><td>3</td></tr>\n",
       "</tbody>\n",
       "</table>\n"
      ],
      "text/latex": [
       "A data.frame: 6 × 8\n",
       "\\begin{tabular}{r|llllllll}\n",
       "  & Hours\\_sun & Age & Weigth & Sugar\\_blood & LDL & Color\\_house & Sleep\\_hours & Hospital\\_times\\\\\n",
       "  & <int> & <int> & <int> & <dbl> & <dbl> & <fct> & <dbl> & <int>\\\\\n",
       "\\hline\n",
       "\tPatient\\_1 & 11 & 65 & 106 & 121.4 & 138.01 & Red   & 7.6 & 4\\\\\n",
       "\tPatient\\_2 &  1 & 78 &  60 & 103.9 & 114.02 & Brown & 9.0 & 2\\\\\n",
       "\tPatient\\_3 & 11 & 19 &  92 &  74.4 & 130.98 & Red   & 6.6 & 0\\\\\n",
       "\tPatient\\_4 &  6 & 61 &  97 & 111.2 & 133.50 & Red   & 8.3 & 4\\\\\n",
       "\tPatient\\_5 & 10 & 54 &  74 &  68.9 & 121.73 & Red   & 7.6 & 0\\\\\n",
       "\tPatient\\_6 &  6 & 26 & 110 & 126.8 & 140.03 & Blue  & 7.4 & 3\\\\\n",
       "\\end{tabular}\n"
      ],
      "text/markdown": [
       "\n",
       "A data.frame: 6 × 8\n",
       "\n",
       "| <!--/--> | Hours_sun &lt;int&gt; | Age &lt;int&gt; | Weigth &lt;int&gt; | Sugar_blood &lt;dbl&gt; | LDL &lt;dbl&gt; | Color_house &lt;fct&gt; | Sleep_hours &lt;dbl&gt; | Hospital_times &lt;int&gt; |\n",
       "|---|---|---|---|---|---|---|---|---|\n",
       "| Patient_1 | 11 | 65 | 106 | 121.4 | 138.01 | Red   | 7.6 | 4 |\n",
       "| Patient_2 |  1 | 78 |  60 | 103.9 | 114.02 | Brown | 9.0 | 2 |\n",
       "| Patient_3 | 11 | 19 |  92 |  74.4 | 130.98 | Red   | 6.6 | 0 |\n",
       "| Patient_4 |  6 | 61 |  97 | 111.2 | 133.50 | Red   | 8.3 | 4 |\n",
       "| Patient_5 | 10 | 54 |  74 |  68.9 | 121.73 | Red   | 7.6 | 0 |\n",
       "| Patient_6 |  6 | 26 | 110 | 126.8 | 140.03 | Blue  | 7.4 | 3 |\n",
       "\n"
      ],
      "text/plain": [
       "          Hours_sun Age Weigth Sugar_blood LDL    Color_house Sleep_hours\n",
       "Patient_1 11        65  106    121.4       138.01 Red         7.6        \n",
       "Patient_2  1        78   60    103.9       114.02 Brown       9.0        \n",
       "Patient_3 11        19   92     74.4       130.98 Red         6.6        \n",
       "Patient_4  6        61   97    111.2       133.50 Red         8.3        \n",
       "Patient_5 10        54   74     68.9       121.73 Red         7.6        \n",
       "Patient_6  6        26  110    126.8       140.03 Blue        7.4        \n",
       "          Hospital_times\n",
       "Patient_1 4             \n",
       "Patient_2 2             \n",
       "Patient_3 0             \n",
       "Patient_4 4             \n",
       "Patient_5 0             \n",
       "Patient_6 3             "
      ]
     },
     "metadata": {},
     "output_type": "display_data"
    }
   ],
   "source": [
    "# Load dataset 1 \"./data/DATA_SET_REFERENCE_1.csv\". Make sure that \n",
    "# the row and column names are assigned correctly using the parameters of the \n",
    "# loading function.\n",
    "\n",
    "# ds1 <- \n",
    "\n",
    "# your code here\n",
    "\n",
    "ds1 <- read.csv(\"./data/DATA_SET_REFERENCE_1.csv\", \n",
    "                row.names = 1,   # Use the first column as row names\n",
    "                header = TRUE)   # First row contains column name\n",
    "\n",
    "head(ds1)"
   ]
  },
  {
   "cell_type": "code",
   "execution_count": 5,
   "metadata": {
    "deletable": false,
    "editable": false,
    "nbgrader": {
     "cell_type": "code",
     "checksum": "d3a9cb57186f0d930f2ae790d8cbc7db",
     "grade": true,
     "grade_id": "cell-readDataTest",
     "locked": true,
     "points": 2,
     "schema_version": 3,
     "solution": false,
     "task": false
    }
   },
   "outputs": [
    {
     "name": "stdout",
     "output_type": "stream",
     "text": [
      "\u001b[32mTest passed\u001b[39m 😸\n"
     ]
    }
   ],
   "source": [
    "test_that(\"Make sure the row and column names are assigned as such.\", {\n",
    "    expect_equal(dim(ds1), c(100,8))\n",
    "})\n",
    "\n"
   ]
  },
  {
   "cell_type": "code",
   "execution_count": 9,
   "metadata": {
    "deletable": false,
    "nbgrader": {
     "cell_type": "code",
     "checksum": "a2f3b9b6d0a88e7f169b3724fb7562d2",
     "grade": false,
     "grade_id": "cell-subsetColsAnswer",
     "locked": false,
     "schema_version": 3,
     "solution": true,
     "task": false
    }
   },
   "outputs": [
    {
     "data": {
      "text/html": [
       "<style>\n",
       ".list-inline {list-style: none; margin:0; padding: 0}\n",
       ".list-inline>li {display: inline-block}\n",
       ".list-inline>li:not(:last-child)::after {content: \"\\00b7\"; padding: 0 .5ex}\n",
       "</style>\n",
       "<ol class=list-inline><li>100</li><li>8</li></ol>\n"
      ],
      "text/latex": [
       "\\begin{enumerate*}\n",
       "\\item 100\n",
       "\\item 8\n",
       "\\end{enumerate*}\n"
      ],
      "text/markdown": [
       "1. 100\n",
       "2. 8\n",
       "\n",
       "\n"
      ],
      "text/plain": [
       "[1] 100   8"
      ]
     },
     "metadata": {},
     "output_type": "display_data"
    },
    {
     "data": {
      "text/html": [
       "<style>\n",
       ".list-inline {list-style: none; margin:0; padding: 0}\n",
       ".list-inline>li {display: inline-block}\n",
       ".list-inline>li:not(:last-child)::after {content: \"\\00b7\"; padding: 0 .5ex}\n",
       "</style>\n",
       "<ol class=list-inline><li>6</li><li>8</li></ol>\n"
      ],
      "text/latex": [
       "\\begin{enumerate*}\n",
       "\\item 6\n",
       "\\item 8\n",
       "\\end{enumerate*}\n"
      ],
      "text/markdown": [
       "1. 6\n",
       "2. 8\n",
       "\n",
       "\n"
      ],
      "text/plain": [
       "[1] 6 8"
      ]
     },
     "metadata": {},
     "output_type": "display_data"
    }
   ],
   "source": [
    "# Extract and return rows 10 to 15 from the dataset.\n",
    "\n",
    "# ds1.subset <- \n",
    "\n",
    "# your code here\n",
    "ds1.subset <- ds1[10:15, ]\n",
    "\n",
    "dim(ds1)\n",
    "dim(ds1.subset)"
   ]
  },
  {
   "cell_type": "code",
   "execution_count": 10,
   "metadata": {
    "deletable": false,
    "editable": false,
    "nbgrader": {
     "cell_type": "code",
     "checksum": "1ae10069467f1dd41ed62f5f672c1d06",
     "grade": true,
     "grade_id": "cell-subsetColsTest",
     "locked": true,
     "points": 2,
     "schema_version": 3,
     "solution": false,
     "task": false
    }
   },
   "outputs": [
    {
     "name": "stdout",
     "output_type": "stream",
     "text": [
      "\u001b[32mTest passed\u001b[39m 🥳\n",
      "\u001b[32mTest passed\u001b[39m 🎉\n"
     ]
    }
   ],
   "source": [
    "test_that(\"Did you include all colmns of the table?\", {\n",
    "    expect_equal(ncol(ds1.subset), 8)\n",
    "})\n",
    "\n",
    "test_that(\"Are you sure you applied the index to the rows of the table?\", {\n",
    "    expect_equal(nrow(ds1.subset), 6)\n",
    "})\n",
    "\n"
   ]
  },
  {
   "cell_type": "code",
   "execution_count": 34,
   "metadata": {
    "deletable": false,
    "nbgrader": {
     "cell_type": "code",
     "checksum": "b60fc3d9cbce90e6634b8e81f1a5d1f9",
     "grade": false,
     "grade_id": "cell-colorTableAnswer",
     "locked": false,
     "schema_version": 3,
     "solution": true,
     "task": false
    }
   },
   "outputs": [
    {
     "name": "stdout",
     "output_type": "stream",
     "text": [
      "\n",
      " Blue Brown   Red \n",
      "    8    29    63 \n"
     ]
    }
   ],
   "source": [
    "# Make a table of the number of patients distinguishing by the color of their house.\n",
    "\n",
    "# col.house.tab <- \n",
    "\n",
    "# your code here\n",
    "col.house.tab <- table(ds1$Color_house)\n",
    "\n",
    "\n",
    "print(col.house.tab)"
   ]
  },
  {
   "cell_type": "code",
   "execution_count": 42,
   "metadata": {
    "deletable": false,
    "editable": false,
    "nbgrader": {
     "cell_type": "code",
     "checksum": "bfbeaa45732f899fc9be2e90384ebfe3",
     "grade": true,
     "grade_id": "cell-colorTableTest",
     "locked": true,
     "points": 2,
     "schema_version": 3,
     "solution": false,
     "task": false
    }
   },
   "outputs": [
    {
     "name": "stdout",
     "output_type": "stream",
     "text": [
      "\u001b[32mTest passed\u001b[39m 🌈\n"
     ]
    }
   ],
   "source": [
    "test_that(\"Did you include all patients in the table?\", {\n",
    "    expect_equal(dim(col.house.tab), 3)\n",
    "})\n",
    "\n"
   ]
  },
  {
   "cell_type": "code",
   "execution_count": 53,
   "metadata": {
    "deletable": false,
    "nbgrader": {
     "cell_type": "code",
     "checksum": "bc1d248129e8e59f09da077fa944e9da",
     "grade": false,
     "grade_id": "cell-twoCriteriaAnswer",
     "locked": false,
     "schema_version": 3,
     "solution": true,
     "task": false
    }
   },
   "outputs": [
    {
     "data": {
      "text/plain": [
       "idx\n",
       "FALSE  TRUE \n",
       "   92     8 "
      ]
     },
     "metadata": {},
     "output_type": "display_data"
    }
   ],
   "source": [
    "# Create a logical index of patients who weigh more than 100 kgs and have a blood sugar level higher than 120.\n",
    "\n",
    "# idx <- \n",
    "\n",
    "# your code here\n",
    "idx <- ds1$Weigth > 100 & ds1$Sugar_blood > 120\n",
    "\n",
    "# check how many patients fulfill the criteria\n",
    "table(idx)"
   ]
  },
  {
   "cell_type": "code",
   "execution_count": 54,
   "metadata": {
    "deletable": false,
    "editable": false,
    "nbgrader": {
     "cell_type": "code",
     "checksum": "93642606e252bee309d9a5acbf55e494",
     "grade": true,
     "grade_id": "cell-twoCriteriaTest",
     "locked": true,
     "points": 2,
     "schema_version": 3,
     "solution": false,
     "task": false
    }
   },
   "outputs": [
    {
     "name": "stdout",
     "output_type": "stream",
     "text": [
      "\u001b[32mTest passed\u001b[39m 🥇\n",
      "\u001b[32mTest passed\u001b[39m 😀\n"
     ]
    }
   ],
   "source": [
    "test_that(\"Are you sure you selected only patients with Weight higher than 100 kg?\", {\n",
    "    expect_false(any(ds1$Weigth[idx] <= 100))\n",
    "})\n",
    "\n",
    "test_that(\"Are you sure you selected only patients with blood sugar level higher than 120?\", {\n",
    "    expect_false(any(ds1$Sugar_blood[idx] <= 120))\n",
    "})\n"
   ]
  },
  {
   "cell_type": "code",
   "execution_count": 55,
   "metadata": {
    "deletable": false,
    "nbgrader": {
     "cell_type": "code",
     "checksum": "3d40d032903a45190179abf95c0690c5",
     "grade": false,
     "grade_id": "cell-hospitalizedTabAnswer",
     "locked": false,
     "schema_version": 3,
     "solution": true,
     "task": false
    }
   },
   "outputs": [
    {
     "name": "stdout",
     "output_type": "stream",
     "text": [
      "\n",
      "FALSE  TRUE \n",
      "    3     5 \n"
     ]
    }
   ],
   "source": [
    "# Create a table showing how many of the above selected patients have been at least 4 times in the hospital?\n",
    "\n",
    "# frequent.hospitalized.table <- \n",
    "\n",
    "# your code here\n",
    "idx <- ds1$Weigth > 100 & ds1$Sugar_blood > 120\n",
    "frequent.hospitalized.table <- table(ds1$Hospital_times[idx] >= 4) \n",
    "\n",
    "\n",
    "print(frequent.hospitalized.table)"
   ]
  },
  {
   "cell_type": "code",
   "execution_count": 56,
   "metadata": {
    "deletable": false,
    "editable": false,
    "nbgrader": {
     "cell_type": "code",
     "checksum": "252d9fdcd985ee87dc57067c6660435b",
     "grade": true,
     "grade_id": "cell-hospitalizedTabTest",
     "locked": true,
     "points": 2,
     "schema_version": 3,
     "solution": false,
     "task": false
    }
   },
   "outputs": [
    {
     "name": "stdout",
     "output_type": "stream",
     "text": [
      "\u001b[32mTest passed\u001b[39m 😸\n",
      "\u001b[32mTest passed\u001b[39m 🥇\n"
     ]
    }
   ],
   "source": [
    "test_that(\"Are you sure you have selected patients using the idx created above, before applying the table function?\", {\n",
    "    expect_equal(sum(frequent.hospitalized.table), 8)\n",
    "})\n",
    "\n",
    "test_that(\"Are you sure you have selected only patients with more than 4 hospitalizations?\", {\n",
    "    expect_true(frequent.hospitalized.table['FALSE'] == 3)\n",
    "})\n",
    "\n"
   ]
  },
  {
   "cell_type": "code",
   "execution_count": 57,
   "metadata": {
    "deletable": false,
    "nbgrader": {
     "cell_type": "code",
     "checksum": "4aec91337beeff50ff2fd2be4591ff5f",
     "grade": false,
     "grade_id": "cell-patientNamesAnswer",
     "locked": false,
     "schema_version": 3,
     "solution": true,
     "task": false
    }
   },
   "outputs": [
    {
     "name": "stdout",
     "output_type": "stream",
     "text": [
      "[1] \"Patient_1\"  \"Patient_58\" \"Patient_73\" \"Patient_92\" \"Patient_93\"\n"
     ]
    }
   ],
   "source": [
    "# Extract and return the rownames of patients who weigh more than 100 kgs, have a blood sugar level \n",
    "# higher than 120, and have been to the hospital at least 4 times?\n",
    "\n",
    "# patient.names <- \n",
    "\n",
    "# your code here\n",
    "\n",
    "patient.names <- rownames(ds1[\n",
    "  ds1$Weigth > 100 &                # Weigh more than 100 kgs\n",
    "  ds1$Sugar_blood > 120 &           # Blood sugar level higher than 120\n",
    "  ds1$Hospital_times >= 4,          # Been to the hospital at least 4 times\n",
    "])  \n",
    "print(patient.names)"
   ]
  },
  {
   "cell_type": "code",
   "execution_count": 58,
   "metadata": {
    "deletable": false,
    "editable": false,
    "nbgrader": {
     "cell_type": "code",
     "checksum": "ab5de9d0c865f9219a685de715e968c1",
     "grade": true,
     "grade_id": "cell-patientNamesTest",
     "locked": true,
     "points": 2,
     "schema_version": 3,
     "solution": false,
     "task": false
    }
   },
   "outputs": [
    {
     "name": "stdout",
     "output_type": "stream",
     "text": [
      "\u001b[32mTest passed\u001b[39m 🌈\n"
     ]
    }
   ],
   "source": [
    "test_that(\"Are you sure you have selected the patient names?\", {\n",
    "    expect_true(grep('Patient', patient.names[1]) == 1)\n",
    "})\n"
   ]
  },
  {
   "cell_type": "code",
   "execution_count": null,
   "metadata": {},
   "outputs": [],
   "source": []
  }
 ],
 "metadata": {
  "kernelspec": {
   "display_name": "R",
   "language": "R",
   "name": "ir"
  },
  "language_info": {
   "codemirror_mode": "r",
   "file_extension": ".r",
   "mimetype": "text/x-r-source",
   "name": "R",
   "pygments_lexer": "r",
   "version": "3.6.3"
  }
 },
 "nbformat": 4,
 "nbformat_minor": 5
}
