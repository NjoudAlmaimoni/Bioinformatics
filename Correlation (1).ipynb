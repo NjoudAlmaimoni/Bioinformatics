{
 "cells": [
  {
   "cell_type": "markdown",
   "metadata": {
    "deletable": false,
    "editable": false,
    "nbgrader": {
     "cell_type": "markdown",
     "checksum": "a2133a880306e0c887833ebea9e5724e",
     "grade": false,
     "grade_id": "cell-desc0",
     "locked": true,
     "schema_version": 3,
     "solution": false,
     "task": false
    }
   },
   "source": [
    "## Correlation\n",
    "\n",
    "The goal of this exercise is to perform a correlation analysis. We will use dataset 2, analysing patient Weight with respect to the blood LDL level.\n",
    "\n",
    "\n",
    "Let's take a close look at the dependency of the body weight to the different variables in our patient dataset 2."
   ]
  },
  {
   "cell_type": "code",
   "execution_count": 1,
   "metadata": {},
   "outputs": [
    {
     "data": {
      "text/plain": [
       "   Hours_sun           Age             Weight        Sugar_blood    \n",
       " Min.   : 0.000   Min.   : 16.00   Min.   : 12.00   Min.   : 50.00  \n",
       " 1st Qu.: 5.000   1st Qu.: 33.00   1st Qu.: 64.00   1st Qu.: 71.78  \n",
       " Median : 7.000   Median : 49.00   Median : 81.00   Median : 95.25  \n",
       " Mean   : 6.857   Mean   : 49.35   Mean   : 80.38   Mean   : 95.43  \n",
       " 3rd Qu.: 9.000   3rd Qu.: 66.00   3rd Qu.: 95.00   3rd Qu.:119.80  \n",
       " Max.   :23.000   Max.   :105.00   Max.   :300.00   Max.   :140.90  \n",
       "                                   NA's   :1                        \n",
       "      LDL        Color_house  Sleep_hours    Hospital_times   Minutes_Reading \n",
       " Min.   : 21.0   Blue : 24   Min.   :6.033   Min.   : 0.000   Min.   :-36.53  \n",
       " 1st Qu.:116.8   Brown:427   1st Qu.:7.033   1st Qu.: 1.000   1st Qu.:108.79  \n",
       " Median :125.4   Red  :809   Median :8.000   Median : 2.000   Median :135.31  \n",
       " Mean   :124.8               Mean   :7.854   Mean   : 1.946   Mean   :135.49  \n",
       " 3rd Qu.:132.5               3rd Qu.:9.033   3rd Qu.: 3.000   3rd Qu.:161.91  \n",
       " Max.   :230.0               Max.   :9.800   Max.   :14.000   Max.   :500.00  \n",
       " NA's   :1                                                    NA's   :1       "
      ]
     },
     "metadata": {},
     "output_type": "display_data"
    }
   ],
   "source": [
    "require(testthat, quietly = TRUE)\n",
    "\n",
    "# Load dataset 2 (\"./data/DATA_SET_REFERENCE_2.csv\")\n",
    "# and make sure the quality control is performed.\n",
    "\n",
    "ds2 <- read.csv(\"./data/DATA_SET_REFERENCE_2.csv\", row.names = 1)\n",
    "summary(ds2)\n",
    "\n",
    "ds2 <- ds2[complete.cases(ds2),]"
   ]
  },
  {
   "cell_type": "markdown",
   "metadata": {
    "deletable": false,
    "editable": false,
    "nbgrader": {
     "cell_type": "markdown",
     "checksum": "80aa6e9565a5dcfce24cb3c852072225",
     "grade": false,
     "grade_id": "cell-desc1",
     "locked": true,
     "schema_version": 3,
     "solution": false,
     "task": false
    }
   },
   "source": [
    "A scatterplot suggests a relationship between our variables Hours_sun and LDL. How do we quantify such a \n",
    "relationship? Lets calculate the covariance according to this formula in R:\n",
    "\n",
    "$ cov(x,y) = \\frac{\\sum(x_i - \\mu_x) (y_i - \\mu_y)}{ N }$"
   ]
  },
  {
   "cell_type": "code",
   "execution_count": 2,
   "metadata": {
    "deletable": false,
    "nbgrader": {
     "cell_type": "code",
     "checksum": "31642d5a80bd6885542cbe342a760e57",
     "grade": false,
     "grade_id": "cell-covQuestion",
     "locked": false,
     "schema_version": 3,
     "solution": true,
     "task": false
    }
   },
   "outputs": [
    {
     "name": "stdout",
     "output_type": "stream",
     "text": [
      "[1] 163.769\n"
     ]
    }
   ],
   "source": [
    "# Calculate and return the covariance between variable \"Weight\" and \"LDL\". Round the obtained value\n",
    "# to three decimal places after the comma and assign it to the requested variable.\n",
    "\n",
    "# Weight_LDL_cov <- \n",
    "\n",
    "# your code here\n",
    "Weight_LDL_cov <- round(cov(ds2$Weight, ds2$LDL), 3)\n",
    "\n",
    "\n",
    "# check the obtained value:\n",
    "print(Weight_LDL_cov)"
   ]
  },
  {
   "cell_type": "code",
   "execution_count": 3,
   "metadata": {
    "deletable": false,
    "editable": false,
    "nbgrader": {
     "cell_type": "code",
     "checksum": "f5b7adbcfa4857bf7cda5dd9d34110f4",
     "grade": true,
     "grade_id": "cell-covTest",
     "locked": true,
     "points": 1,
     "schema_version": 3,
     "solution": false,
     "task": false
    }
   },
   "outputs": [
    {
     "name": "stdout",
     "output_type": "stream",
     "text": [
      "\u001b[32mTest passed\u001b[39m 🌈\n"
     ]
    }
   ],
   "source": [
    "test_that(\"The covariance variable type needs to be 'numeric'\", {\n",
    "    expect_equal(class(Weight_LDL_cov), 'numeric')\n",
    "})\n"
   ]
  },
  {
   "cell_type": "markdown",
   "metadata": {
    "deletable": false,
    "editable": false,
    "nbgrader": {
     "cell_type": "markdown",
     "checksum": "8ae2dedf3e70044cb485761e213de0b3",
     "grade": false,
     "grade_id": "cell-desc2",
     "locked": true,
     "schema_version": 3,
     "solution": false,
     "task": false
    }
   },
   "source": [
    "Now let's calculate the correlation instead:\n",
    "\n",
    "$ cor(x,y) = \\rho_{x,y} = \\frac{cov_{x,y}}{ \\sigma_x  \\sigma_y } $"
   ]
  },
  {
   "cell_type": "code",
   "execution_count": 4,
   "metadata": {
    "deletable": false,
    "nbgrader": {
     "cell_type": "code",
     "checksum": "8b81cc193e7f5d0522a93bb50835aa50",
     "grade": false,
     "grade_id": "cell-corQuestion",
     "locked": false,
     "schema_version": 3,
     "solution": true,
     "task": false
    }
   },
   "outputs": [
    {
     "name": "stdout",
     "output_type": "stream",
     "text": [
      "[1] \"numeric\"\n",
      "[1] 0.822\n"
     ]
    }
   ],
   "source": [
    "# Now calculate and return the Pearson correlation to see for ourselves if correlation is \n",
    "# independent of the data scaling. Again, round the correlation value to three decimal places:\n",
    "\n",
    "# Weight_LDL_cor <-\n",
    "\n",
    "# your code here\n",
    "Weight_LDL_cor <- round(cor(ds2$Weight, ds2$LDL), 3)\n",
    "\n",
    "# First let's make sure the variable has the correct type:\n",
    "print(class(Weight_LDL_cor))\n",
    "\n",
    "# and then check the actual value\n",
    "print(Weight_LDL_cor)"
   ]
  },
  {
   "cell_type": "code",
   "execution_count": 5,
   "metadata": {
    "deletable": false,
    "editable": false,
    "nbgrader": {
     "cell_type": "code",
     "checksum": "ba21d309823247eb0ccf3a88b2ba120f",
     "grade": true,
     "grade_id": "cell-corTest",
     "locked": true,
     "points": 1,
     "schema_version": 3,
     "solution": false,
     "task": false
    }
   },
   "outputs": [
    {
     "name": "stdout",
     "output_type": "stream",
     "text": [
      "\u001b[32mTest passed\u001b[39m 🥳\n",
      "\u001b[32mTest passed\u001b[39m 🎊\n"
     ]
    }
   ],
   "source": [
    "test_that(\"The correlation variable type needs to be 'numeric'\", {\n",
    "    expect_equal(class(Weight_LDL_cor), 'numeric')\n",
    "})\n",
    "\n",
    "test_that(\"The correlation 'Weight_LDL_cor' must be in the range [-1,1]\", {\n",
    "    expect_true(Weight_LDL_cor >= -1 & Weight_LDL_cor <= 1)\n",
    "})"
   ]
  },
  {
   "cell_type": "code",
   "execution_count": 6,
   "metadata": {
    "deletable": false,
    "nbgrader": {
     "cell_type": "code",
     "checksum": "bd3070777a06d3d44ebc9d3adcbcbd7c",
     "grade": false,
     "grade_id": "cell-corPQuestion",
     "locked": false,
     "schema_version": 3,
     "solution": true,
     "task": false
    }
   },
   "outputs": [
    {
     "name": "stdout",
     "output_type": "stream",
     "text": [
      "[1] \"numeric\"\n",
      "[1] 1.904958e-309\n"
     ]
    }
   ],
   "source": [
    "# Calculate the p-value for the correlation between Weight and LDL, allowing either \n",
    "# positive or negative correlation as alternative hypothesis:\n",
    "\n",
    "# weight.ldl.test.pval <- \n",
    "\n",
    "# your code here\n",
    "weight.ldl.test <- cor.test(ds2$Weight, ds2$LDL, alternative = \"two.sided\")\n",
    "weight.ldl.test.pval <- weight.ldl.test$p.value\n",
    "\n",
    "\n",
    "# Let's check the type of the obtained value, remember we are looking for the p-value of the correlation value:\n",
    "print(class(weight.ldl.test.pval))\n",
    "\n",
    "# And now let's check the value itself:\n",
    "print(weight.ldl.test.pval)"
   ]
  },
  {
   "cell_type": "code",
   "execution_count": 7,
   "metadata": {
    "deletable": false,
    "editable": false,
    "nbgrader": {
     "cell_type": "code",
     "checksum": "61d73304a4d0a368227af6da1aee51bf",
     "grade": true,
     "grade_id": "cell-corPTest",
     "locked": true,
     "points": 1,
     "schema_version": 3,
     "solution": false,
     "task": false
    }
   },
   "outputs": [
    {
     "name": "stdout",
     "output_type": "stream",
     "text": [
      "\u001b[32mTest passed\u001b[39m 😀\n",
      "\u001b[32mTest passed\u001b[39m 🎉\n"
     ]
    }
   ],
   "source": [
    "test_that(\"The correlation p-value needs to be 'numeric'\", {\n",
    "    expect_equal(class(weight.ldl.test.pval), 'numeric')\n",
    "})\n",
    "\n",
    "test_that(\"The correlation p-value 'weight.ldl.test.pval' must be in the range [0,1]\", {\n",
    "    expect_true(weight.ldl.test.pval >= 0 & weight.ldl.test.pval <= 1)\n",
    "})\n"
   ]
  },
  {
   "cell_type": "code",
   "execution_count": 8,
   "metadata": {
    "deletable": false,
    "nbgrader": {
     "cell_type": "code",
     "checksum": "a3a1aae0b5d76d2848e5c01b05dadbe2",
     "grade": false,
     "grade_id": "cell-PcorPQuestion",
     "locked": false,
     "schema_version": 3,
     "solution": true,
     "task": false
    }
   },
   "outputs": [
    {
     "name": "stdout",
     "output_type": "stream",
     "text": [
      "[1] \"numeric\"\n",
      "[1] 9.52479e-310\n"
     ]
    }
   ],
   "source": [
    "# Now calculate and return the p-value for the positive correlation between Weight and LDL\n",
    "\n",
    "# weight.ldl.pos.cor.pval <- \n",
    "\n",
    "\n",
    "# your code here\n",
    "weight.ldl.pos.cor.test <- cor.test(ds2$Weight, ds2$LDL, alternative = \"greater\")\n",
    "weight.ldl.pos.cor.pval <- weight.ldl.pos.cor.test$p.value\n",
    "\n",
    "\n",
    "print(class(weight.ldl.pos.cor.pval))\n",
    "print(weight.ldl.pos.cor.pval)"
   ]
  },
  {
   "cell_type": "code",
   "execution_count": 9,
   "metadata": {
    "deletable": false,
    "editable": false,
    "nbgrader": {
     "cell_type": "code",
     "checksum": "7716ffffc2d6e2da292307be76b1ea77",
     "grade": true,
     "grade_id": "cell-PcorPTest",
     "locked": true,
     "points": 1,
     "schema_version": 3,
     "solution": false,
     "task": false
    }
   },
   "outputs": [
    {
     "name": "stdout",
     "output_type": "stream",
     "text": [
      "\u001b[32mTest passed\u001b[39m 🥇\n",
      "\u001b[32mTest passed\u001b[39m 🥳\n"
     ]
    }
   ],
   "source": [
    "test_that(\"The correlation p-value 'weight.ldl.pos.cor.pval' needs to be 'numeric'\", {\n",
    "    expect_equal(class(weight.ldl.pos.cor.pval), 'numeric')\n",
    "})\n",
    "\n",
    "test_that(\"The correlation p-value 'weight.ldl.pos.cor.pval' must be in the range [0,1]\", {\n",
    "    expect_true(weight.ldl.pos.cor.pval >= 0 & weight.ldl.pos.cor.pval <= 1)\n",
    "})\n"
   ]
  },
  {
   "cell_type": "code",
   "execution_count": 10,
   "metadata": {
    "deletable": false,
    "nbgrader": {
     "cell_type": "code",
     "checksum": "1099e6b692ed1114d91f33b1d575e285",
     "grade": false,
     "grade_id": "cell-NcorPQuestion",
     "locked": false,
     "schema_version": 3,
     "solution": true,
     "task": false
    }
   },
   "outputs": [
    {
     "name": "stdout",
     "output_type": "stream",
     "text": [
      "[1] \"numeric\"\n",
      "[1] 1\n"
     ]
    }
   ],
   "source": [
    "# And finally, calculate the p-value for the negative correlation between Weight and LDL\n",
    "\n",
    "# weight.ldl.neg.cor.pval <- \n",
    "\n",
    "\n",
    "# your code here\n",
    "weight.ldl.neg.cor.test <- cor.test(ds2$Weight, ds2$LDL, alternative = \"less\")\n",
    "weight.ldl.neg.cor.pval <- weight.ldl.neg.cor.test$p.value\n",
    "\n",
    "\n",
    "print(class(weight.ldl.neg.cor.pval))\n",
    "print(weight.ldl.neg.cor.pval)"
   ]
  },
  {
   "cell_type": "code",
   "execution_count": 11,
   "metadata": {
    "deletable": false,
    "editable": false,
    "nbgrader": {
     "cell_type": "code",
     "checksum": "8a643e86e553228e4b952d7ac8a52d42",
     "grade": true,
     "grade_id": "cell-NcorPTest",
     "locked": true,
     "points": 1,
     "schema_version": 3,
     "solution": false,
     "task": false
    }
   },
   "outputs": [
    {
     "name": "stdout",
     "output_type": "stream",
     "text": [
      "\u001b[32mTest passed\u001b[39m 🥇\n",
      "\u001b[32mTest passed\u001b[39m 🎊\n"
     ]
    }
   ],
   "source": [
    "test_that(\"The correlation p-value 'weight.ldl.neg.cor.pval' needs to be 'numeric'\", {\n",
    "    expect_equal(class(weight.ldl.neg.cor.pval), 'numeric')\n",
    "})\n",
    "\n",
    "test_that(\"The correlation p-value 'weight.ldl.neg.cor.pval' must be in the range [0,1]\", {\n",
    "    expect_true(weight.ldl.neg.cor.pval >= 0 & weight.ldl.neg.cor.pval <= 1)\n",
    "})\n"
   ]
  },
  {
   "cell_type": "code",
   "execution_count": null,
   "metadata": {},
   "outputs": [],
   "source": []
  }
 ],
 "metadata": {
  "kernelspec": {
   "display_name": "R",
   "language": "R",
   "name": "ir"
  },
  "language_info": {
   "codemirror_mode": "r",
   "file_extension": ".r",
   "mimetype": "text/x-r-source",
   "name": "R",
   "pygments_lexer": "r",
   "version": "3.6.3"
  }
 },
 "nbformat": 4,
 "nbformat_minor": 5
}
