{
 "cells": [
  {
   "cell_type": "markdown",
   "metadata": {
    "deletable": false,
    "editable": false,
    "nbgrader": {
     "cell_type": "markdown",
     "checksum": "990984985ee0873fd392db013848f97e",
     "grade": false,
     "grade_id": "cell-43c490a7d2f285ef",
     "locked": true,
     "schema_version": 3,
     "solution": false,
     "task": false
    }
   },
   "source": [
    "## The pandas package\n",
    "\n",
    "#### The day of the PhD defense is near!\n",
    "\n",
    "Your defense is set for tomorrow. *No panic!* Let's go together through all your data and results to be sure that everything is in place. \n",
    "\n",
    "All the data you collected are in the *bcell_data.csv* file. You managed to collect 100 different samples. For each sample, you recorded whether it is composed of pre-B cells or immature naive B cells, the sex of the donor, as well as the expression level of the IKZF1, MYC and MAPK1 genes."
   ]
  },
  {
   "cell_type": "code",
   "execution_count": 26,
   "metadata": {
    "deletable": false,
    "nbgrader": {
     "cell_type": "code",
     "checksum": "c6e8f0fcfd105a02ba5106f3d30a22f1",
     "grade": false,
     "grade_id": "cell-bcda027e03c66e3b",
     "locked": false,
     "schema_version": 3,
     "solution": true,
     "task": false
    }
   },
   "outputs": [
    {
     "data": {
      "text/html": [
       "<div>\n",
       "<style scoped>\n",
       "    .dataframe tbody tr th:only-of-type {\n",
       "        vertical-align: middle;\n",
       "    }\n",
       "\n",
       "    .dataframe tbody tr th {\n",
       "        vertical-align: top;\n",
       "    }\n",
       "\n",
       "    .dataframe thead th {\n",
       "        text-align: right;\n",
       "    }\n",
       "</style>\n",
       "<table border=\"1\" class=\"dataframe\">\n",
       "  <thead>\n",
       "    <tr style=\"text-align: right;\">\n",
       "      <th></th>\n",
       "      <th>cell_type</th>\n",
       "      <th>sex</th>\n",
       "      <th>IKZF1</th>\n",
       "      <th>MYC</th>\n",
       "      <th>MAPK1</th>\n",
       "    </tr>\n",
       "    <tr>\n",
       "      <th>sample</th>\n",
       "      <th></th>\n",
       "      <th></th>\n",
       "      <th></th>\n",
       "      <th></th>\n",
       "      <th></th>\n",
       "    </tr>\n",
       "  </thead>\n",
       "  <tbody>\n",
       "    <tr>\n",
       "      <th>s1</th>\n",
       "      <td>preB</td>\n",
       "      <td>female</td>\n",
       "      <td>17.232815</td>\n",
       "      <td>17.256758</td>\n",
       "      <td>8.864175</td>\n",
       "    </tr>\n",
       "    <tr>\n",
       "      <th>s2</th>\n",
       "      <td>preB</td>\n",
       "      <td>male</td>\n",
       "      <td>11.938779</td>\n",
       "      <td>12.497435</td>\n",
       "      <td>3.871096</td>\n",
       "    </tr>\n",
       "    <tr>\n",
       "      <th>s3</th>\n",
       "      <td>preB</td>\n",
       "      <td>female</td>\n",
       "      <td>10.153002</td>\n",
       "      <td>10.834510</td>\n",
       "      <td>10.789578</td>\n",
       "    </tr>\n",
       "    <tr>\n",
       "      <th>s4</th>\n",
       "      <td>preB</td>\n",
       "      <td>male</td>\n",
       "      <td>12.516865</td>\n",
       "      <td>12.115241</td>\n",
       "      <td>7.177412</td>\n",
       "    </tr>\n",
       "    <tr>\n",
       "      <th>s5</th>\n",
       "      <td>preB</td>\n",
       "      <td>female</td>\n",
       "      <td>11.231450</td>\n",
       "      <td>12.074468</td>\n",
       "      <td>3.356356</td>\n",
       "    </tr>\n",
       "    <tr>\n",
       "      <th>...</th>\n",
       "      <td>...</td>\n",
       "      <td>...</td>\n",
       "      <td>...</td>\n",
       "      <td>...</td>\n",
       "      <td>...</td>\n",
       "    </tr>\n",
       "    <tr>\n",
       "      <th>s96</th>\n",
       "      <td>immatureB</td>\n",
       "      <td>male</td>\n",
       "      <td>5.160727</td>\n",
       "      <td>4.994283</td>\n",
       "      <td>5.961980</td>\n",
       "    </tr>\n",
       "    <tr>\n",
       "      <th>s97</th>\n",
       "      <td>immatureB</td>\n",
       "      <td>female</td>\n",
       "      <td>11.076917</td>\n",
       "      <td>10.991495</td>\n",
       "      <td>7.214951</td>\n",
       "    </tr>\n",
       "    <tr>\n",
       "      <th>s98</th>\n",
       "      <td>immatureB</td>\n",
       "      <td>male</td>\n",
       "      <td>7.714327</td>\n",
       "      <td>8.020823</td>\n",
       "      <td>3.610367</td>\n",
       "    </tr>\n",
       "    <tr>\n",
       "      <th>s99</th>\n",
       "      <td>immatureB</td>\n",
       "      <td>female</td>\n",
       "      <td>7.129905</td>\n",
       "      <td>7.243679</td>\n",
       "      <td>4.673425</td>\n",
       "    </tr>\n",
       "    <tr>\n",
       "      <th>s100</th>\n",
       "      <td>immatureB</td>\n",
       "      <td>male</td>\n",
       "      <td>3.378940</td>\n",
       "      <td>2.856422</td>\n",
       "      <td>4.403250</td>\n",
       "    </tr>\n",
       "  </tbody>\n",
       "</table>\n",
       "<p>100 rows × 5 columns</p>\n",
       "</div>"
      ],
      "text/plain": [
       "        cell_type     sex      IKZF1        MYC      MAPK1\n",
       "sample                                                    \n",
       "s1           preB  female  17.232815  17.256758   8.864175\n",
       "s2           preB    male  11.938779  12.497435   3.871096\n",
       "s3           preB  female  10.153002  10.834510  10.789578\n",
       "s4           preB    male  12.516865  12.115241   7.177412\n",
       "s5           preB  female  11.231450  12.074468   3.356356\n",
       "...           ...     ...        ...        ...        ...\n",
       "s96     immatureB    male   5.160727   4.994283   5.961980\n",
       "s97     immatureB  female  11.076917  10.991495   7.214951\n",
       "s98     immatureB    male   7.714327   8.020823   3.610367\n",
       "s99     immatureB  female   7.129905   7.243679   4.673425\n",
       "s100    immatureB    male   3.378940   2.856422   4.403250\n",
       "\n",
       "[100 rows x 5 columns]"
      ]
     },
     "execution_count": 26,
     "metadata": {},
     "output_type": "execute_result"
    }
   ],
   "source": [
    "# loading packages\n",
    "import numpy as np\n",
    "import pandas as pd\n",
    "\n",
    "# exercise: read the bcell_data.csv file from the \"./data\" folder \n",
    "# and store the data frame in the variable \"data\". \n",
    "# The row names are on the first column of the file.\n",
    "# data = ...\n",
    "# your code here\n",
    "data = pd.read_csv(\"./data/bcell_data.csv\", index_col=0)\n",
    "\n",
    "\n",
    "\n",
    "# this shows the contents of data frame\n",
    "data"
   ]
  },
  {
   "cell_type": "code",
   "execution_count": null,
   "metadata": {
    "deletable": false,
    "editable": false,
    "nbgrader": {
     "cell_type": "code",
     "checksum": "81d9cb786c8e1bc439305152b891e177",
     "grade": true,
     "grade_id": "cell-fe2663e36c7413f9",
     "locked": true,
     "points": 5,
     "schema_version": 3,
     "solution": false,
     "task": false
    }
   },
   "outputs": [],
   "source": [
    "# tip: the \"read_csv\" function has an \"index_col\" parameter"
   ]
  },
  {
   "cell_type": "markdown",
   "metadata": {
    "deletable": false,
    "editable": false,
    "nbgrader": {
     "cell_type": "markdown",
     "checksum": "1e0a331c4f1a5c6df96cb2c4692ad9c4",
     "grade": false,
     "grade_id": "cell-b425bea4b1a028ba",
     "locked": true,
     "schema_version": 3,
     "solution": false,
     "task": false
    }
   },
   "source": [
    "Great, let's make a table that subdivides the samples according to `cell_type` and `sex`"
   ]
  },
  {
   "cell_type": "code",
   "execution_count": 27,
   "metadata": {
    "deletable": false,
    "nbgrader": {
     "cell_type": "code",
     "checksum": "a6bda38ab6af254adcd3a5f27d155034",
     "grade": false,
     "grade_id": "cell-b7df767df841f942",
     "locked": false,
     "schema_version": 3,
     "solution": true,
     "task": false
    }
   },
   "outputs": [
    {
     "name": "stdout",
     "output_type": "stream",
     "text": [
      "sex        female  male\n",
      "cell_type              \n",
      "immatureB      25    25\n",
      "preB           25    25\n"
     ]
    }
   ],
   "source": [
    "# exercise: use the \"crosstab\" funtion for computing how many samples there are \n",
    "# for each combination of cell_type and sex values\n",
    "\n",
    "# type_x_sex = \n",
    "\n",
    "# your code here\n",
    "\n",
    "type_x_sex = pd.crosstab(data['cell_type'], data['sex'])\n",
    "\n",
    "\n",
    "print(type_x_sex)\n"
   ]
  },
  {
   "cell_type": "code",
   "execution_count": null,
   "metadata": {
    "deletable": false,
    "editable": false,
    "nbgrader": {
     "cell_type": "code",
     "checksum": "fb2ab83fe9b8e88b913c934a50da53d4",
     "grade": true,
     "grade_id": "cell-56a299e829e57a35",
     "locked": true,
     "points": 5,
     "schema_version": 3,
     "solution": false,
     "task": false
    }
   },
   "outputs": [],
   "source": [
    "# tip: we saw the \"crosstab\" function in the coding lessons :-)"
   ]
  },
  {
   "cell_type": "markdown",
   "metadata": {
    "deletable": false,
    "editable": false,
    "nbgrader": {
     "cell_type": "markdown",
     "checksum": "bcdf187c40032e447268baf656adce51",
     "grade": false,
     "grade_id": "cell-38a97d937b61a075",
     "locked": true,
     "schema_version": 3,
     "solution": false,
     "task": false
    }
   },
   "source": [
    "Your experiment is perfectly balanced, good! Let's now explore the gene expression levels, starting with visualizing them as boxplot"
   ]
  },
  {
   "cell_type": "code",
   "execution_count": 29,
   "metadata": {
    "deletable": false,
    "editable": false,
    "nbgrader": {
     "cell_type": "code",
     "checksum": "48b3815ba598cbfb2a4c9f792b8d7c43",
     "grade": false,
     "grade_id": "cell-f53a794c0d20a283",
     "locked": true,
     "schema_version": 3,
     "solution": false,
     "task": false
    }
   },
   "outputs": [
    {
     "data": {
      "text/plain": [
       "<matplotlib.axes._subplots.AxesSubplot at 0x7447e5b98a50>"
      ]
     },
     "execution_count": 29,
     "metadata": {},
     "output_type": "execute_result"
    },
    {
     "data": {
      "image/png": "[encoded data removed]",
      "text/plain": [
       "<Figure size 432x288 with 1 Axes>"
      ]
     },
     "metadata": {
      "needs_background": "light"
     },
     "output_type": "display_data"
    }
   ],
   "source": [
    "# boxplot for the gene expression values\n",
    "data.boxplot()"
   ]
  },
  {
   "cell_type": "markdown",
   "metadata": {
    "deletable": false,
    "editable": false,
    "nbgrader": {
     "cell_type": "markdown",
     "checksum": "c1f52f2f8a44a416d395a146c3e2faea",
     "grade": false,
     "grade_id": "cell-6a23cf6fcd35438a",
     "locked": true,
     "schema_version": 3,
     "solution": false,
     "task": false
    }
   },
   "source": [
    "It seems that there is an outlier in the MAPK1 column! Can you set that extreme value to NaN?"
   ]
  },
  {
   "cell_type": "code",
   "execution_count": 31,
   "metadata": {
    "deletable": false,
    "nbgrader": {
     "cell_type": "code",
     "checksum": "76e5dc7c71a38829144f477d03ba29b6",
     "grade": false,
     "grade_id": "cell-d15bcea6d21dee7a",
     "locked": false,
     "schema_version": 3,
     "solution": true,
     "task": false
    }
   },
   "outputs": [
    {
     "name": "stdout",
     "output_type": "stream",
     "text": [
      "sample\n",
      "s1       8.864175\n",
      "s2       3.871096\n",
      "s3      10.789578\n",
      "s4       7.177412\n",
      "s5       3.356356\n",
      "          ...    \n",
      "s96      5.961980\n",
      "s97      7.214951\n",
      "s98      3.610367\n",
      "s99      4.673425\n",
      "s100     4.403250\n",
      "Name: MAPK1, Length: 100, dtype: float64\n"
     ]
    }
   ],
   "source": [
    "# exercise: set any value in MAPK1 that is larger than 1000 to NaN\n",
    "\n",
    "# your code here\n",
    "\n",
    "data.loc[data['MAPK1'] > 1000, 'MAPK1'] = np.nan\n",
    "\n",
    "print(data['MAPK1'])\n"
   ]
  },
  {
   "cell_type": "code",
   "execution_count": null,
   "metadata": {
    "deletable": false,
    "editable": false,
    "nbgrader": {
     "cell_type": "code",
     "checksum": "9a7afae2f0961b74bc471754ef29cc9b",
     "grade": true,
     "grade_id": "cell-433901fb8b0cb1d8",
     "locked": true,
     "points": 5,
     "schema_version": 3,
     "solution": false,
     "task": false
    }
   },
   "outputs": [],
   "source": [
    "# tip: you first need to finds the MAPK1 values larger than 1000, and then you must set them to NaN"
   ]
  },
  {
   "cell_type": "markdown",
   "metadata": {
    "deletable": false,
    "editable": false,
    "nbgrader": {
     "cell_type": "markdown",
     "checksum": "215b46473e945641068a9bf7625ca35e",
     "grade": false,
     "grade_id": "cell-20186e5307be607e",
     "locked": true,
     "schema_version": 3,
     "solution": false,
     "task": false
    }
   },
   "source": [
    "Let's check if you successfully removed the outlier! "
   ]
  },
  {
   "cell_type": "code",
   "execution_count": 18,
   "metadata": {},
   "outputs": [
    {
     "data": {
      "text/plain": [
       "<matplotlib.axes._subplots.AxesSubplot at 0x7447e5e55910>"
      ]
     },
     "execution_count": 18,
     "metadata": {},
     "output_type": "execute_result"
    },
    {
     "data": {
      "image/png": "[encoded data removed]",
      "text/plain": [
       "<Figure size 432x288 with 1 Axes>"
      ]
     },
     "metadata": {
      "needs_background": "light"
     },
     "output_type": "display_data"
    }
   ],
   "source": [
    "# boxplots for the gene expression values (again)\n",
    "data.boxplot()"
   ]
  },
  {
   "cell_type": "markdown",
   "metadata": {
    "deletable": false,
    "editable": false,
    "nbgrader": {
     "cell_type": "markdown",
     "checksum": "9f7869eae5cca4a9cd44ce0a8abc4f8c",
     "grade": false,
     "grade_id": "cell-c68c1392dff47d65",
     "locked": true,
     "schema_version": 3,
     "solution": false,
     "task": false
    }
   },
   "source": [
    "If you can distintively see three boxplots then you successfully removed the outlier."
   ]
  },
  {
   "cell_type": "markdown",
   "metadata": {
    "deletable": false,
    "editable": false,
    "nbgrader": {
     "cell_type": "markdown",
     "checksum": "d1b21c7aa1fcaa730133c4477c898ab7",
     "grade": false,
     "grade_id": "cell-ed5c6ec648a4054c",
     "locked": true,
     "schema_version": 3,
     "solution": false,
     "task": false
    }
   },
   "source": [
    "We now have introduced at least one NaN value in the MAPK1 column. Can you detect how many missing values there are for each column?"
   ]
  },
  {
   "cell_type": "code",
   "execution_count": 19,
   "metadata": {
    "deletable": false,
    "nbgrader": {
     "cell_type": "code",
     "checksum": "b73ee38460693bdd2871587d0401121e",
     "grade": false,
     "grade_id": "cell-06d9d1dd39d8267a",
     "locked": false,
     "schema_version": 3,
     "solution": true,
     "task": false
    }
   },
   "outputs": [
    {
     "name": "stdout",
     "output_type": "stream",
     "text": [
      "cell_type    0\n",
      "sex          0\n",
      "ikzf1        1\n",
      "myc          1\n",
      "mapk1        1\n",
      "dtype: int64\n"
     ]
    }
   ],
   "source": [
    "# exercise: compute the number of missing value for each column\n",
    "\n",
    "# num_na = \n",
    "\n",
    "# your code here\n",
    "num_na = data.isna().sum()\n",
    "\n",
    "\n",
    "print(num_na)\n"
   ]
  },
  {
   "cell_type": "code",
   "execution_count": null,
   "metadata": {
    "deletable": false,
    "editable": false,
    "nbgrader": {
     "cell_type": "code",
     "checksum": "dafb31156615d9e41aeb76c2468349dd",
     "grade": true,
     "grade_id": "cell-95926ea0a6f8a37a",
     "locked": true,
     "points": 5,
     "schema_version": 3,
     "solution": false,
     "task": false
    }
   },
   "outputs": [],
   "source": [
    "# tip: try to combine the \"isna\" and \"sum\" methods"
   ]
  },
  {
   "cell_type": "markdown",
   "metadata": {
    "deletable": false,
    "editable": false,
    "nbgrader": {
     "cell_type": "markdown",
     "checksum": "fb0aea3171f3dde5e418a864aea055cb",
     "grade": false,
     "grade_id": "cell-24ead6e845c3b9b0",
     "locked": true,
     "schema_version": 3,
     "solution": false,
     "task": false
    }
   },
   "source": [
    "It seems we have some missing value in the numeric columns. Can you replace them with the average of their respective columns?"
   ]
  },
  {
   "cell_type": "code",
   "execution_count": 20,
   "metadata": {
    "deletable": false,
    "nbgrader": {
     "cell_type": "code",
     "checksum": "907c642c69606dc859823b5485bf7377",
     "grade": false,
     "grade_id": "cell-bc0be0cae6930338",
     "locked": false,
     "schema_version": 3,
     "solution": true,
     "task": false
    }
   },
   "outputs": [
    {
     "data": {
      "text/plain": [
       "cell_type    0\n",
       "sex          0\n",
       "ikzf1        0\n",
       "myc          0\n",
       "mapk1        0\n",
       "dtype: int64"
      ]
     },
     "execution_count": 20,
     "metadata": {},
     "output_type": "execute_result"
    }
   ],
   "source": [
    "# let's create a copy of data, namely \"imputed_data\"\n",
    "imputed_data = data.copy()\n",
    "\n",
    "# exercise: replace missing values in imputed_data with the average of their respective columns\n",
    "# your code here\n",
    "imputed_data = imputed_data.apply(\n",
    "    lambda col: col.fillna(col.mean()) if col.dtype in ['float64', 'int64'] else col\n",
    ")\n",
    "\n",
    "# let's check that no missing data are present anymore in imputed_data\n",
    "imputed_data.isna().sum()"
   ]
  },
  {
   "cell_type": "code",
   "execution_count": null,
   "metadata": {
    "deletable": false,
    "editable": false,
    "nbgrader": {
     "cell_type": "code",
     "checksum": "20492a1e78c98774de6879b0f9081f1a",
     "grade": true,
     "grade_id": "cell-2d53e1de8a15700f",
     "locked": true,
     "points": 5,
     "schema_version": 3,
     "solution": false,
     "task": false
    }
   },
   "outputs": [],
   "source": [
    "# tip: the \"fillna\" method could be useful here"
   ]
  },
  {
   "cell_type": "markdown",
   "metadata": {
    "deletable": false,
    "editable": false,
    "nbgrader": {
     "cell_type": "markdown",
     "checksum": "bb680134e708ff0578e81aa99a52bf93",
     "grade": false,
     "grade_id": "cell-874f6071c076d66a",
     "locked": true,
     "schema_version": 3,
     "solution": false,
     "task": false
    }
   },
   "source": [
    "Time to better explore the data. Let's plot the distribution of the gene expression data subdivided by cell_type."
   ]
  },
  {
   "cell_type": "code",
   "execution_count": 21,
   "metadata": {
    "deletable": false,
    "editable": false,
    "nbgrader": {
     "cell_type": "code",
     "checksum": "72790bcdac9fb480e40b0e7541d76bc7",
     "grade": false,
     "grade_id": "cell-047621e489c6b592",
     "locked": true,
     "schema_version": 3,
     "solution": false,
     "task": false
    }
   },
   "outputs": [
    {
     "data": {
      "image/png": "[encoded data removed]",
      "text/plain": [
       "<Figure size 432x288 with 2 Axes>"
      ]
     },
     "metadata": {
      "needs_background": "light"
     },
     "output_type": "display_data"
    }
   ],
   "source": [
    "# distribution of the gene expression columns by cell_type\n",
    "tmp = data.groupby('cell_type').boxplot()"
   ]
  },
  {
   "cell_type": "markdown",
   "metadata": {
    "deletable": false,
    "editable": false,
    "nbgrader": {
     "cell_type": "markdown",
     "checksum": "d6bd8d6ace5483ab45c2d8b580da3657",
     "grade": false,
     "grade_id": "cell-423424e10ac26a98",
     "locked": true,
     "schema_version": 3,
     "solution": false,
     "task": false
    }
   },
   "source": [
    "It seems that the expression of IKZF1 and MYC is higher in the preB cells than in the immature ones. Let's compute a t statistic for assessing differences in a quantitative way."
   ]
  },
  {
   "cell_type": "code",
   "execution_count": 33,
   "metadata": {
    "deletable": false,
    "nbgrader": {
     "cell_type": "code",
     "checksum": "957cd1e66b9cfab8b6b0d655a5a560c0",
     "grade": false,
     "grade_id": "cell-dba71a50a319e668",
     "locked": false,
     "schema_version": 3,
     "solution": true,
     "task": false
    }
   },
   "outputs": [
    {
     "name": "stdout",
     "output_type": "stream",
     "text": [
      "ikzf1    5.059756\n",
      "myc      4.947691\n",
      "mapk1    1.207247\n",
      "dtype: float64\n"
     ]
    }
   ],
   "source": [
    "# this function computes the t-statistic for a numeric vector according to a binary factor\n",
    "def t_statistic(v, f) :\n",
    "    \n",
    "    # factor unique values\n",
    "    uv = list(set(f))\n",
    "    \n",
    "    # splitting the vector according to the factor values\n",
    "    v1 = v[list(f == uv[0])]\n",
    "    v2 = v[list(f == uv[1])]\n",
    "    \n",
    "    # t-statistic\n",
    "    return (np.mean(v1) - np.mean(v2)) / np.sqrt(np.std(v1) ** 2 / len(v1) + np.std(v2) ** 2 / len(v2) )\n",
    "\n",
    "# exercise: use the \"apply\" method for applying the t_statistic function to each numerical column.\n",
    "# Use cell type as binary factor (argument f)\n",
    "\n",
    "# res = ...\n",
    "# your code here\n",
    "\n",
    "res = imputed_data[['ikzf1', 'myc', 'mapk1']].apply(\n",
    "    lambda col: t_statistic(col, imputed_data['cell_type']), axis=0\n",
    ")\n",
    "print(res)"
   ]
  },
  {
   "cell_type": "code",
   "execution_count": null,
   "metadata": {
    "deletable": false,
    "editable": false,
    "nbgrader": {
     "cell_type": "code",
     "checksum": "432d743a73cb14c45850b17737ec1240",
     "grade": true,
     "grade_id": "cell-fd2ebd9ddcf623a0",
     "locked": true,
     "points": 5,
     "schema_version": 3,
     "solution": false,
     "task": false
    }
   },
   "outputs": [],
   "source": [
    "# tip: you must use the \"apply\" method only on the numerical columns (IKZF1, MYC and MAPK1, in order)"
   ]
  },
  {
   "cell_type": "markdown",
   "metadata": {
    "deletable": false,
    "editable": false,
    "nbgrader": {
     "cell_type": "markdown",
     "checksum": "3719c6af393a95c0c88a2b36dd79247d",
     "grade": false,
     "grade_id": "cell-b526487b37d4fe7a",
     "locked": true,
     "schema_version": 3,
     "solution": false,
     "task": false
    }
   },
   "source": [
    "If your computations are correct, you will find that the t-statistics for IKZF1 and MYC are largely beyond the critical value of 1.96 (corresponding to a p-value of 0.05). Once again, you have demonstrated the validity of your findings! You can sleep tight, tomorrow defense will be a success :-)"
   ]
  }
 ],
 "metadata": {
  "kernelspec": {
   "display_name": "Python 3",
   "language": "python",
   "name": "python3"
  },
  "language_info": {
   "codemirror_mode": {
    "name": "ipython",
    "version": 3
   },
   "file_extension": ".py",
   "mimetype": "text/x-python",
   "name": "python",
   "nbconvert_exporter": "python",
   "pygments_lexer": "ipython3",
   "version": "3.7.6"
  }
 },
 "nbformat": 4,
 "nbformat_minor": 4
}
