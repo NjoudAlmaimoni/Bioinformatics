{
 "cells": [
  {
   "cell_type": "markdown",
   "metadata": {
    "deletable": false,
    "editable": false,
    "nbgrader": {
     "cell_type": "markdown",
     "checksum": "55449e4659b5ad607a9389282b80537e",
     "grade": false,
     "grade_id": "cell-9a941514db07b01d",
     "locked": true,
     "schema_version": 3,
     "solution": false,
     "task": false
    }
   },
   "source": [
    "## Identifying cell types in scRNA-seq data\n",
    "\n",
    "### Students notebook"
   ]
  },
  {
   "cell_type": "markdown",
   "metadata": {
    "deletable": false,
    "editable": false,
    "nbgrader": {
     "cell_type": "markdown",
     "checksum": "76d76d90431b6e212952131f3e4bc1de",
     "grade": false,
     "grade_id": "cell-fef7659dee4fa382",
     "locked": true,
     "schema_version": 3,
     "solution": false,
     "task": false
    }
   },
   "source": [
    "Here we are, the final exercise of this course. We will now check whether we can replicate the same calssification provided in the original publication for the cells we selected. As we saw in the coding lecture, cell type identification usually includes at least three steps:\n",
    "- clustering cells in distinct groups according to their transcriptomic profile\n",
    "- identifying the marker genes characterizing each cluster\n",
    "- assign each cluster to a cell type according to their respective markers"
   ]
  },
  {
   "cell_type": "markdown",
   "metadata": {
    "deletable": false,
    "editable": false,
    "nbgrader": {
     "cell_type": "markdown",
     "checksum": "e77d23789afd40b754e36cab59d8aae9",
     "grade": false,
     "grade_id": "cell-ec7a1903d33d91fe",
     "locked": true,
     "schema_version": 3,
     "solution": false,
     "task": false
    }
   },
   "source": [
    "First, let's read the data and import the relevant packages"
   ]
  },
  {
   "cell_type": "code",
   "execution_count": 1,
   "metadata": {
    "deletable": false,
    "editable": false,
    "nbgrader": {
     "cell_type": "code",
     "checksum": "dcbeee39191cb8721ada43e37159f477",
     "grade": false,
     "grade_id": "cell-9a2f169bddb29e7a",
     "locked": true,
     "schema_version": 3,
     "solution": false,
     "task": false
    }
   },
   "outputs": [],
   "source": [
    "# loading packages\n",
    "import numpy as np\n",
    "import pandas as pd\n",
    "import scanpy as sc\n",
    "\n",
    "# loading the preprocessed\n",
    "scderp = sc.read_h5ad('./data/scderp.h5ad')\n",
    "\n",
    "# little unknown bug in scanpy!\n",
    "scderp.uns['log1p'] = {'base':None}"
   ]
  },
  {
   "cell_type": "markdown",
   "metadata": {
    "deletable": false,
    "editable": false,
    "nbgrader": {
     "cell_type": "markdown",
     "checksum": "2bef24329b3a4f0360c2dcc0d5e3bbee",
     "grade": false,
     "grade_id": "cell-9455869e2b3cd7f9",
     "locked": true,
     "schema_version": 3,
     "solution": false,
     "task": false
    }
   },
   "source": [
    "The first step, cell clustering, is performed through three different scanpy functions:\n",
    "- `tl.pca`, which computes the principal components in the transcriptomics space\n",
    "- `pp.neighbors`, which identifies for each cell a subset of other cells with very similar transcriptomics profile\n",
    "- `tl.leiden`, which applied the \"leiden\" algorithm for grouping together similar cells\n",
    "\n",
    "Let's apply these functions on our data!"
   ]
  },
  {
   "cell_type": "code",
   "execution_count": null,
   "metadata": {
    "deletable": false,
    "nbgrader": {
     "cell_type": "code",
     "checksum": "fafb44a28ca2427a4b84542e281e408c",
     "grade": false,
     "grade_id": "cell-1bd3dd6cbca8beba",
     "locked": false,
     "schema_version": 3,
     "solution": true,
     "task": false
    }
   },
   "outputs": [],
   "source": [
    "# Exercise: apply the following functions in order, using the suggested settings\n",
    "# tl.pca, with svd_solver='arpack'\n",
    "# pp.neighbor, with n_neighbors=10, and n_pcs=30\n",
    "# tl.leiden\n",
    "\n",
    "# your code here\n",
    "# Perform PCA with svd_solver='arpack'\n",
    "sc.tl.pca(scderp, svd_solver='arpack')\n",
    "\n",
    "# Compute the neighborhood graph with n_neighbors=10 and n_pcs=30\n",
    "sc.pp.neighbors(scderp, n_neighbors=10, n_pcs=30)\n",
    "\n",
    "# Apply the Leiden algorithm for clustering\n",
    "sc.tl.leiden(scderp)\n",
    "\n",
    "# the clusters should be recorded in the 'leiden' column of the obs data frame\n",
    "scderp.obs['leiden']"
   ]
  },
  {
   "cell_type": "code",
   "execution_count": null,
   "metadata": {
    "deletable": false,
    "editable": false,
    "nbgrader": {
     "cell_type": "code",
     "checksum": "29d8a990b502c84b6e898f983598ecb5",
     "grade": true,
     "grade_id": "cell-cc65ffb6745767db",
     "locked": true,
     "points": 5,
     "schema_version": 3,
     "solution": false,
     "task": false
    }
   },
   "outputs": [],
   "source": [
    "# tip: this is the same pipeline we saw in the coding lectures\n"
   ]
  },
  {
   "cell_type": "markdown",
   "metadata": {
    "deletable": false,
    "editable": false,
    "nbgrader": {
     "cell_type": "markdown",
     "checksum": "9c45b4fc341c05aa2e2ae154b6426173",
     "grade": false,
     "grade_id": "cell-859b5a8448ee0a4d",
     "locked": true,
     "schema_version": 3,
     "solution": false,
     "task": false
    }
   },
   "source": [
    "The cells are now grouped in different clusters, as recorded in the `leiden` coolumn of the `obs` data frame. Let's visualize them with a UMAP."
   ]
  },
  {
   "cell_type": "code",
   "execution_count": null,
   "metadata": {
    "deletable": false,
    "editable": false,
    "nbgrader": {
     "cell_type": "code",
     "checksum": "25bf571b6c6398b26e0d7b9dcd97e592",
     "grade": false,
     "grade_id": "cell-0d670d0a4d98cc9e",
     "locked": true,
     "schema_version": 3,
     "solution": false,
     "task": false
    }
   },
   "outputs": [],
   "source": [
    "# computing the UMAP\n",
    "sc.tl.umap(scderp)\n",
    "\n",
    "# visualizing the UMAP\n",
    "sc.pl.umap(scderp, color = 'leiden', size=50)"
   ]
  },
  {
   "cell_type": "markdown",
   "metadata": {
    "deletable": false,
    "editable": false,
    "nbgrader": {
     "cell_type": "markdown",
     "checksum": "69ff11ccaff7d07f665d9d8a636e6e5c",
     "grade": false,
     "grade_id": "cell-2f607047e731f13d",
     "locked": true,
     "schema_version": 3,
     "solution": false,
     "task": false
    }
   },
   "source": [
    "With respect to the UMAP we saw in the coding lecture, this is much more sparse, due to the lower number of cells depicted in it. "
   ]
  },
  {
   "cell_type": "markdown",
   "metadata": {
    "deletable": false,
    "editable": false,
    "nbgrader": {
     "cell_type": "markdown",
     "checksum": "23a569ea4231d963c7e3fd96261c06c2",
     "grade": false,
     "grade_id": "cell-99f4805a6b6cd217",
     "locked": true,
     "schema_version": 3,
     "solution": false,
     "task": false
    }
   },
   "source": [
    "We can now pass to the second step, the identification of marker genes for each cluster."
   ]
  },
  {
   "cell_type": "code",
   "execution_count": null,
   "metadata": {
    "deletable": false,
    "nbgrader": {
     "cell_type": "code",
     "checksum": "b5b4375f938c5849a10b7f3468c3df05",
     "grade": false,
     "grade_id": "cell-3f0b4766f23e1745",
     "locked": false,
     "schema_version": 3,
     "solution": true,
     "task": false
    }
   },
   "outputs": [],
   "source": [
    "# exercise: find the differentially expressed genes characterizing each cluster\n",
    "\n",
    "# your code here\n",
    "sc.tl.rank_genes_groups(scderp, groupby='leiden', method='t-test')\n",
    "sc.pl.rank_genes_groups(scderp, n_genes=20, sharey=False)\n"
   ]
  },
  {
   "cell_type": "code",
   "execution_count": null,
   "metadata": {
    "deletable": false,
    "editable": false,
    "nbgrader": {
     "cell_type": "code",
     "checksum": "fb95a01a2d875ca5351adf74162fbeca",
     "grade": true,
     "grade_id": "cell-6da69e3ad63644a1",
     "locked": true,
     "points": 5,
     "schema_version": 3,
     "solution": false,
     "task": false
    }
   },
   "outputs": [],
   "source": [
    "# tip: use the tl.rank_genes_groups function (method = 't-test')\n"
   ]
  },
  {
   "cell_type": "code",
   "execution_count": null,
   "metadata": {
    "deletable": false,
    "editable": false,
    "nbgrader": {
     "cell_type": "code",
     "checksum": "046cc9919719816522867408912afdae",
     "grade": false,
     "grade_id": "cell-2f23e376dd26533a",
     "locked": true,
     "schema_version": 3,
     "solution": false,
     "task": false
    }
   },
   "outputs": [],
   "source": [
    "# for each cluster, plot the 25 most differentially expressed genes\n",
    "sc.pl.rank_genes_groups(scderp, n_genes=25, sharey=False, fontsize=12)"
   ]
  },
  {
   "cell_type": "markdown",
   "metadata": {
    "deletable": false,
    "editable": false,
    "nbgrader": {
     "cell_type": "markdown",
     "checksum": "962a45ae942cc6bf7104685e73bc1f28",
     "grade": false,
     "grade_id": "cell-50eefd41ea8249f4",
     "locked": true,
     "schema_version": 3,
     "solution": false,
     "task": false
    }
   },
   "source": [
    "It is now time for the last step of the analysis: assigning each cluster to a cell type. This is not trivial, and you may already notice that it is not immediately possile to trace the markers below in the list of differentially expressed genes reported above."
   ]
  },
  {
   "cell_type": "markdown",
   "metadata": {
    "deletable": false,
    "editable": false,
    "nbgrader": {
     "cell_type": "markdown",
     "checksum": "f6ce8ea9948880122b0eb31c8a2e4631",
     "grade": false,
     "grade_id": "cell-8f7f3aea5018e3b7",
     "locked": true,
     "schema_version": 3,
     "solution": false,
     "task": false
    }
   },
   "source": [
    " Markers | Cell Type\n",
    " ---|---\n",
    " LRRN3, CCR7, SELL | Naive T-cells (TN)\n",
    " PASK | Central Memory T-cells (TCM)\n",
    " IL7R, KLRB1, TNFSF13B | Effector Memory T-cells (TEM) \n",
    " CCL4, GZMH, GZMA, GNLY, NKG7, CST7 | Effector Memory T-cells re-expressing CD45RA (TEMRA)"
   ]
  },
  {
   "cell_type": "markdown",
   "metadata": {
    "deletable": false,
    "editable": false,
    "nbgrader": {
     "cell_type": "markdown",
     "checksum": "ad6fedb748e5489eae9a5d08e6876276",
     "grade": false,
     "grade_id": "cell-8f95b488e9a2d5bd",
     "locked": true,
     "schema_version": 3,
     "solution": false,
     "task": false
    }
   },
   "source": [
    "For the next exercise, let's use the tl.marker_gene_overlap function. Have a look to the documentation, particularly to the examples: https://scanpy.readthedocs.io/en/stable/generated/scanpy.tl.marker_gene_overlap.html"
   ]
  },
  {
   "cell_type": "code",
   "execution_count": null,
   "metadata": {
    "deletable": false,
    "nbgrader": {
     "cell_type": "code",
     "checksum": "68a522f6ff98220c49eea24984a20e1d",
     "grade": false,
     "grade_id": "cell-96239480d2a57ad3",
     "locked": false,
     "schema_version": 3,
     "solution": true,
     "task": false
    }
   },
   "outputs": [],
   "source": [
    "# let's organize the marker genes in a dictionary\n",
    "marker_genes = {\n",
    "    'TN': {'LRRN3', 'CCR7', 'SELL'},\n",
    "    'TCM': {'PASK'},\n",
    "    'TEM': {'IL7R', 'KLRB1', 'TNFSF13B'},\n",
    "    'TEMRA': {'CCL4', 'GZMH', 'GZMA', 'GNLY', 'NKG7', 'CST7'}\n",
    "}\n",
    "\n",
    "# exercise: use the tl.marker_gene_overlap function for assigning the cluster identities\n",
    "# store the results of the tl.marker_gene_overlap function in the markers_matches variable\n",
    "# use top_n_markers=300 as additional argument\n",
    "markers_matches = None\n",
    "\n",
    "# your code here\n",
    "markers_matches = sc.tl.marker_gene_overlap(scderp, marker_genes, top_n_markers=300)\n",
    "\n",
    "\n",
    "print(markers_matches)"
   ]
  },
  {
   "cell_type": "code",
   "execution_count": null,
   "metadata": {
    "deletable": false,
    "editable": false,
    "nbgrader": {
     "cell_type": "code",
     "checksum": "0650b4e8ca9f708a49ac86497857460b",
     "grade": true,
     "grade_id": "cell-e58658568391bad4",
     "locked": true,
     "points": 5,
     "schema_version": 3,
     "solution": false,
     "task": false
    }
   },
   "outputs": [],
   "source": [
    "# tip: read the tl.marker_gene_overlap documentation online if you need additional guidance!\n"
   ]
  },
  {
   "cell_type": "markdown",
   "metadata": {
    "deletable": false,
    "editable": false,
    "nbgrader": {
     "cell_type": "markdown",
     "checksum": "9a46145fd929fcec8041d22621f488fc",
     "grade": false,
     "grade_id": "cell-fdaa93ca943fe2fd",
     "locked": true,
     "schema_version": 3,
     "solution": false,
     "task": false
    }
   },
   "source": [
    "You should have obtained a matrix where higher positive numbers indicate that clusters (columns) can be assigned to a specific cell type (rows). We can see that cluster 5 is probably formed by TEMRA cells, while cluster 0 and 4 by TEM cells. No cluster was assigned to TCM or TN, and no cell type was found for clusters 1, 2, 3, 6, and 7. This may be due to the low amount of cells used in this exercise, or to the effect of the cytokines."
   ]
  }
 ],
 "metadata": {
  "kernelspec": {
   "display_name": "Python 3",
   "language": "python",
   "name": "python3"
  },
  "language_info": {
   "codemirror_mode": {
    "name": "ipython",
    "version": 3
   },
   "file_extension": ".py",
   "mimetype": "text/x-python",
   "name": "python",
   "nbconvert_exporter": "python",
   "pygments_lexer": "ipython3",
   "version": "3.7.6"
  }
 },
 "nbformat": 4,
 "nbformat_minor": 4
}
